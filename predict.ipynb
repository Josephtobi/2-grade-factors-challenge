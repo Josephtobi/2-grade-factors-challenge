{
  "cells": [
    {
      "cell_type": "code",
      "execution_count": 2,
      "metadata": {
        "id": "O-TZSnBtCSBh"
      },
      "outputs": [],
      "source": [
        "from sklearn.model_selection import train_test_split\n",
        "from sklearn.ensemble import StackingRegressor\n",
        "from sklearn.linear_model import Ridge, LinearRegression\n",
        "from sklearn.ensemble import RandomForestRegressor\n",
        "from sklearn.svm import SVR\n",
        "from sklearn.metrics import mean_squared_error\n",
        "import pandas as pd\n",
        "import numpy as np"
      ]
    },
    {
      "cell_type": "code",
      "execution_count": 31,
      "metadata": {
        "id": "7OwnR7scCX0Y"
      },
      "outputs": [],
      "source": [
        "def predict_scores(df):\n",
        "    # train data\n",
        "    data = pd.read_csv('/content/StudentsPerformance.csv')\n",
        "    X = data.drop(columns=['average_score'])\n",
        "    y = data['average_score']\n",
        "\n",
        "    # One-hot encode the categorical columns in the dataset\n",
        "    X_encoded = pd.get_dummies(X, drop_first=True)\n",
        "    test = pd.get_dummies(df, drop_first=True)\n",
        "\n",
        "    # Align test data columns to match the training data columns\n",
        "    test = test.reindex(columns=X_encoded.columns, fill_value=0)\n",
        "\n",
        "    # Define the base learners for the stacking regressor\n",
        "    base_learners = [\n",
        "        ('lr', LinearRegression()),\n",
        "        ('ridge', Ridge()),\n",
        "        ('rf', RandomForestRegressor(random_state=42)),\n",
        "        ('svr', SVR())\n",
        "    ]\n",
        "\n",
        "    # Define the meta-model\n",
        "    meta_model = Ridge()\n",
        "\n",
        "    # Create the stacking regressor\n",
        "    stacking_regressor = StackingRegressor(estimators=base_learners, final_estimator=meta_model)\n",
        "\n",
        "    # Train the stacking regressor\n",
        "    stacking_regressor.fit(X_encoded, y)\n",
        "\n",
        "    # Predict on the test set\n",
        "    y_pred = stacking_regressor.predict(test)\n",
        "\n",
        "    # Return the prediction as a series\n",
        "    return pd.Series(y_pred, index=df.index, name='average_score')"
      ]
    },
    {
      "cell_type": "code",
      "execution_count": 32,
      "metadata": {
        "id": "3ptLUloWFrCm"
      },
      "outputs": [],
      "source": [
        "# function usuage ( i used the train data you can comment out the second line)\n",
        "testdata = pd.read_csv('/content/StudentsPerformance.csv')\n",
        "input=testdata.drop(columns=['average_score'])\n",
        "result = predict_scores(input)\n"
      ]
    },
    {
      "cell_type": "code",
      "execution_count": 33,
      "metadata": {
        "colab": {
          "base_uri": "https://localhost:8080/"
        },
        "id": "cHeMCvgiHS9v",
        "outputId": "93cabeac-88bc-42d5-99e0-a7d9e521607d"
      },
      "outputs": [
        {
          "name": "stdout",
          "output_type": "stream",
          "text": [
            "RMSE: 12.26229217378017\n",
            "Comparison DataFrame:\n",
            "        Actual  Predicted  Difference\n",
            "0    80.333333  67.663255   12.670078\n",
            "1    75.666667  77.070585   -1.403919\n",
            "2    65.666667  58.044353    7.622313\n",
            "3    57.333333  72.910122  -15.576789\n",
            "4    77.666667  76.649900    1.016767\n",
            "..         ...        ...         ...\n",
            "695  95.666667  73.718726   21.947941\n",
            "696  64.333333  70.273741   -5.940407\n",
            "697  56.000000  70.541267  -14.541267\n",
            "698  50.333333  65.773517  -15.440183\n",
            "699  88.333333  72.605220   15.728113\n",
            "\n",
            "[700 rows x 3 columns]\n"
          ]
        }
      ],
      "source": [
        "\n",
        "comparison_df = pd.DataFrame({\n",
        "    'Actual': testdata['average_score'],\n",
        "    'Predicted': result,\n",
        "    'Difference': testdata['average_score'] - result\n",
        "})\n",
        "\n",
        "rmse = np.sqrt(mean_squared_error(testdata['average_score'], result))\n",
        "print(f\"RMSE: {rmse}\")\n",
        "print(\"Comparison DataFrame:\")\n",
        "print(comparison_df)"
      ]
    },
    {
      "cell_type": "code",
      "execution_count": null,
      "metadata": {
        "id": "Zn0V8fAGJj3Z"
      },
      "outputs": [],
      "source": []
    }
  ],
  "metadata": {
    "colab": {
      "provenance": []
    },
    "kernelspec": {
      "display_name": "Python 3",
      "name": "python3"
    },
    "language_info": {
      "name": "python"
    }
  },
  "nbformat": 4,
  "nbformat_minor": 0
}
